{
 "cells": [
  {
   "cell_type": "markdown",
   "id": "124e5672",
   "metadata": {},
   "source": [
    "# Custom Chatbot Project"
   ]
  },
  {
   "cell_type": "markdown",
   "id": "2a4a94b3",
   "metadata": {},
   "source": [
    "TODO: In this cell, write an explanation of which dataset you have chosen and why it is appropriate for this task"
   ]
  },
  {
   "cell_type": "markdown",
   "id": "a63d4c5f",
   "metadata": {},
   "source": [
    "## Data Wrangling\n",
    "\n",
    "TODO: In the cells below, load your chosen dataset into a `pandas` dataframe with a column named `\"text\"`. This column should contain all of your text data, separated into at least 20 rows."
   ]
  },
  {
   "cell_type": "markdown",
   "id": "fd602cf1",
   "metadata": {},
   "source": [
    "## Dataset Choice\n",
    "\n",
    "I selected the nyc_food_scrap_drop_off_sites.csv data set primarily, because I found it to be valuable information which could be used by end users for making sustainable choices in their day to day life. The dataset was also interesting and more close to how datasets tend to get, with multiple columns having distinctive data\n",
    "\n",
    "The dataset has many useful column information. I selected the below columns to work with the data\n",
    "\n",
    "borough: This helps the user get information for a specific borough in New york\n",
    "ntaname: Name of the neighbourhood\n",
    "food_scrap_drop_off_site: Intersection information of the drop off site\n",
    "location: This is helpful to get the exact location for the user\n",
    "hosted_by: This provides information on the institute managing the drop off site\n",
    "open_months: This is critical to know when the site is open. Is it certain months, days or year around\n",
    "operation_day_hours: This is critical information for user to know when the site is open\n",
    "website: This is useful for the user to get more information on the site\n",
    "notes: This contains useful information on the type of food that is accepted or any specific app requirement\n",
    "\n",
    "I feel, a chatbot with this information would generate relevant information very easily to end users."
   ]
  },
  {
   "cell_type": "code",
   "execution_count": 1,
   "id": "c69b83a1",
   "metadata": {},
   "outputs": [],
   "source": [
    "import getpass\n",
    "import openai\n",
    "import pandas as pd\n",
    "import numpy as np\n",
    "import tiktoken\n",
    "from openai.embeddings_utils import distances_from_embeddings"
   ]
  },
  {
   "cell_type": "code",
   "execution_count": 15,
   "id": "0a595980",
   "metadata": {},
   "outputs": [
    {
     "name": "stdout",
     "output_type": "stream",
     "text": [
      "Enter OpenAI API key (input hidden): ········\n",
      "API key configured (last 4 chars): **** KEY\n"
     ]
    }
   ],
   "source": [
    "# ===============================\n",
    "# API Key Configuration (DO NOT MODIFY)\n",
    "# ===============================\n",
    "\n",
    "openai.api_base = \"https://openai.vocareum.com/v1\"\n",
    "\n",
    "# This function is complete and should not be modified.\n",
    "def get_openai_api_key():\n",
    "    key = getpass.getpass(\"Enter OpenAI API key (input hidden): \").strip()\n",
    "    while not key:\n",
    "        print(\"API key cannot be empty!\")\n",
    "        key = getpass.getpass(\"Enter OpenAI API key (input hidden): \").strip()\n",
    "\n",
    "    print(f\"API key configured (last 4 chars): ****{key[-4:]}\")\n",
    "    return key\n",
    "\n",
    "openai.api_key = get_openai_api_key()"
   ]
  },
  {
   "cell_type": "code",
   "execution_count": 3,
   "id": "acb3a9fd",
   "metadata": {},
   "outputs": [],
   "source": [
    "# ===============================\n",
    "# Dataset & Embedding Functions\n",
    "# ===============================\n",
    "\n",
    "def filter_dataset(df, column_names):\n",
    "    filtered_df = df[column_names].copy()\n",
    "    return filtered_df\n",
    "\n",
    "def load_dataset(file_path, column_names):\n",
    "    df = pd.read_csv(file_path)\n",
    "    filtered_df = filter_dataset(df, column_names)\n",
    "    json_list = filtered_df.apply(lambda row: row.to_json(), axis=1)  \n",
    "    filtered_df['text'] = json_list \n",
    "    return filtered_df[['text']]\n",
    "\n",
    "\n",
    "def generate_embeddings(df, embedding_model_name=\"text-embedding-ada-002\", batch_size=1):\n",
    "    embeddings = []\n",
    "    for i in range(0, len(df), batch_size):\n",
    "        response = openai.Embedding.create(\n",
    "            input=df.iloc[i:i + batch_size][\"text\"].tolist(),\n",
    "            engine=embedding_model_name\n",
    "        )\n",
    "        embeddings.extend([data[\"embedding\"] for data in response[\"data\"]])\n",
    "    df[\"embeddings\"] = embeddings\n",
    "    return df\n",
    "\n",
    "def save_embeddings(df, output_file):\n",
    "    df.to_csv(output_file, index=False) \n",
    "\n",
    "def load_embeddings(file_path):\n",
    "    df = pd.read_csv(file_path)\n",
    "    df[\"embeddings\"] = df[\"embeddings\"].apply(eval).apply(np.array) \n",
    "    return df\n",
    "\n",
    "embedding_model_name=\"text-embedding-ada-002\"\n",
    "def get_relevant_rows(question, df, top_n):\n",
    "    # Encode the question\n",
    "    question_embedding = openai.Embedding.create(\n",
    "        model=embedding_model_name,\n",
    "        input=question\n",
    "    )['data'][0]['embedding']\n",
    "\n",
    "    df_copy = df.copy()\n",
    "    # calculate cosine distance between the questions and the embeddings column\n",
    "    df_copy['distance'] = distances_from_embeddings(question_embedding, df_copy['embeddings'].values, distance_metric=\"cosine\")\n",
    "    return df_copy.nsmallest(top_n, 'distance')"
   ]
  },
  {
   "cell_type": "markdown",
   "id": "ae769871",
   "metadata": {},
   "source": [
    "## Custom Query Completion\n",
    "\n",
    "TODO: In the cells below, compose a custom query using your chosen dataset and retrieve results from an OpenAI `Completion` model. You may copy and paste any useful code from the course materials."
   ]
  },
  {
   "cell_type": "code",
   "execution_count": 5,
   "id": "582f0656",
   "metadata": {},
   "outputs": [],
   "source": [
    "# ===============================\n",
    "# Prompt Creation & Answering\n",
    "# ===============================\n",
    "\n",
    "def create_prompt(question, df, max_token_count=1500):\n",
    "    tokenizer = tiktoken.get_encoding(\"cl100k_base\")\n",
    "    prompt_template = \"\"\"\n",
    "    Answer the question based on the context below. If the question can't be answered based on the context, say \"I don't know.\"\n",
    "\n",
    "    Context: {}\n",
    "\n",
    "    ---\n",
    "\n",
    "    Question: {}\n",
    "\n",
    "    Answer:\n",
    "    \"\"\"\n",
    "    current_token_count = len(tokenizer.encode(prompt_template)) + len(tokenizer.encode(question))\n",
    "    context = []\n",
    "    for text in df[\"text\"].values:\n",
    "        tokens_in_text = len(tokenizer.encode(text))\n",
    "        if current_token_count + tokens_in_text <= max_token_count:\n",
    "            context.append(text)\n",
    "            current_token_count += tokens_in_text\n",
    "        else:\n",
    "            break\n",
    "\n",
    "    return prompt_template.format(\"\\n\\n###\\n\\n\".join(context), question)\n",
    "\n",
    "def get_openai_answer(prompt, max_answer_tokens=150):\n",
    "    try:\n",
    "        response = openai.Completion.create(\n",
    "            model=\"gpt-3.5-turbo-instruct\",\n",
    "            prompt=prompt,\n",
    "            max_tokens=max_answer_tokens\n",
    "        )\n",
    "        return response[\"choices\"][0][\"text\"].strip() \n",
    "    except Exception as e:\n",
    "        print(f\"Error: {str(e)}\")\n",
    "        return \"An error occurred.\"\n",
    "    \n",
    "\n",
    "def reformat_rows(df):\n",
    "    import json\n",
    "    food_scrap_list = []\n",
    "    reformatted_df = pd.DataFrame()\n",
    "    for index, row in df.iterrows():\n",
    "        # reformated_df['text'] =\n",
    "        row_obj = json.loads(row['text'])\n",
    "        formatted_str = 'Food scrap drop off is available at ' + str(row_obj['food_scrap_drop_off_site']) + ' in ' + str(row_obj['ntaname']) + ', '+ str(row_obj['borough']) + '. It is hosted by ' + str(row_obj['hosted_by']) + ' and is open ' + str(row_obj['open_months']) + ' during the hours of ' + str(row_obj['operation_day_hours']) + '. You can find more information at the location ' + str(row_obj['location']) + ' or by visiting their website at ' + str(row_obj['website'])\n",
    "        food_scrap_list.append(formatted_str)\n",
    "    reformatted_df['text'] = food_scrap_list\n",
    "    return reformatted_df\n",
    "        \n",
    "    \n",
    "def answer_question_with_context(question, df, max_prompt_tokens=1500, max_answer_tokens=150, top_n=10):\n",
    "    relevant_rows = get_relevant_rows(question, df, top_n=top_n)\n",
    "    # print(relevant_rows)\n",
    "    refromatted_rows = reformat_rows(relevant_rows)\n",
    "    # Construct a combined prompt using the relevant rows and the question.\n",
    "    prompt = create_prompt(question, refromatted_rows, max_token_count=max_prompt_tokens)\n",
    "    # Generate and return the answer using the combined prompt.\n",
    "    # print(prompt)\n",
    "    return get_openai_answer(prompt, max_answer_tokens=max_answer_tokens)\n"
   ]
  },
  {
   "cell_type": "markdown",
   "id": "8ef8de74",
   "metadata": {},
   "source": [
    "## Dataset Choice\n",
    "\n",
    "I selected the nyc_food_scrap_drop_off_sites.csv data set primarily, because I found it to be valuable information which could be used by end users for making sustainable choices in their day to day life. \n",
    "The dataset was also interesting and more close to how datasets tend to get, with multiple columns having distinctive data"
   ]
  },
  {
   "cell_type": "code",
   "execution_count": 13,
   "id": "13f2dcd7",
   "metadata": {},
   "outputs": [],
   "source": [
    "def main():\n",
    "    dataset_path = './data/nyc_food_scrap_drop_off_sites.csv'\n",
    "    col_names = [\"borough\",\"ntaname\",\"food_scrap_drop_off_site\",\"location\",\"hosted_by\",\"open_months\",\"operation_day_hours\",\"website\",\"notes\"]\n",
    "    loaded_dataset = load_dataset(dataset_path, col_names)\n",
    "    # filtered_dataset = loaded_dataset[]copy()\n",
    "    # print(loaded_dataset.head())\n",
    "    generate_embeddings(loaded_dataset)\n",
    "\n",
    "    # Question 1\n",
    "    question1 = \"List me the food scrap drop off sites available in Brooklyn borough for 2023 year?\"\n",
    "    response11 = get_openai_answer(question1)\n",
    "    # print(response11)\n",
    "    response12 = answer_question_with_context(question1, loaded_dataset)\n",
    "    # print(response12)\n",
    "\n",
    "     # Question 2\n",
    "    question2 = \"List me the food scrap drop off sites available in Manhattan for 2023 year?\"\n",
    "    response21 = get_openai_answer(question2)\n",
    "    # print(response21)\n",
    "    response22 = answer_question_with_context(question2, loaded_dataset)\n",
    "    # print(response22)\n",
    "\n",
    "    print(f\"Question 1: {question1}\\n\\n Basic Answer: {response11}\\n\\n Custom Answer: {response12}\\n\\n\")\n",
    "    print(f\"Question 2: {question2}\\n\\n Basic Answer: {response21}\\n\\n Custom Answer: {response22}\\n\\n\")"
   ]
  },
  {
   "cell_type": "code",
   "execution_count": 14,
   "id": "c403f543",
   "metadata": {},
   "outputs": [
    {
     "name": "stdout",
     "output_type": "stream",
     "text": [
      "Question 1: List me the food scrap drop off sites available in Brooklyn borough for 2023 year?\n",
      "\n",
      " Basic Answer: Unfortunately, it is impossible to provide a list of food scrap drop off sites for the year 2023 as they may change or new sites may be added in the next two years. The best option would be to check with local government or waste management agencies for updated information closer to the desired time.\n",
      "\n",
      " Custom Answer: 1. Food scrap drop off available at Flatbush Junction Food Scrap Drop-off in Flatbush, Brooklyn, hosted by GrowNYC, open Year Round on Fridays (Start Time: 8:30 AM - End Time: 2:30 PM).\n",
      "2. Food scrap drop off available at Bay Parkway at 66th Street in Bensonhurst, Brooklyn, hosted by NYC Compost Project Hosted by LES Ecology Center, open Year Round on Tuesdays (Start Time: 10:00 AM - End Time: 2:00 PM).\n",
      "3. Food scrap drop off available at Kensington Food Scrap Drop-off in Kensington, Brooklyn, hosted by GrowNYC, open Year Round on Saturdays (Start Time: 8:30 AM\n",
      "\n",
      "\n",
      "Question 2: List me the food scrap drop off sites available in Manhattan for 2023 year?\n",
      "\n",
      " Basic Answer: I am sorry, I am an AI and I am not able to predict the information for future years. However, the following are currently active food scrap drop off sites in Manhattan:\n",
      "\n",
      "1. Union Square Greenmarket (17th Street and Union Square West)\n",
      "2. Greenmarket Youthmarket at St Mark's Church (East 10th Street and 2nd Avenue)\n",
      "3. John Jay College Farmers' Market (59th Street between Park and Lexington Avenues)\n",
      "4. Lower East Side Community Farmers' Market (East Houston Street and Avenue C)\n",
      "5. West 97th Street Greenmarket (97th Street between Columbus and Amsterdam Avenues)\n",
      "6. Columbia University Farmers' Market (116th Street and Broadway)\n",
      "7. Morningside\n",
      "\n",
      " Custom Answer: 1. NW Corner of West 126th Street & Adam Clayton Powell Jr Blvd in Harlem (North), Manhattan\n",
      "     2. NW Corner of West 114 Street & Adam Clayton Powell Jr Blvd in Harlem (South), Manhattan\n",
      "     3. NW Corner of West 132 Street & Adam Clayton Powell Jr Blvd in Harlem (North), Manhattan\n",
      "     4. SE Corner of East 106th Street & 3rd Avenue in East Harlem (South), Manhattan\n",
      "     5. 8th Ave & 24th St in Chelsea-Hudson Yards, Manhattan\n",
      "     6. SW Corner of West 112 Street & 5th Avenue in Harlem (South), Manhattan\n",
      "     7. SW Corner of East\n",
      "\n",
      "\n"
     ]
    }
   ],
   "source": [
    "if __name__ == \"__main__\":\n",
    "    main()"
   ]
  },
  {
   "cell_type": "code",
   "execution_count": 8,
   "id": "74280b92",
   "metadata": {},
   "outputs": [],
   "source": [
    "# dataset_path = './data/nyc_food_scrap_drop_off_sites.csv'\n",
    "# col_names = [\"borough\",\"ntaname\",\"food_scrap_drop_off_site\",\"location\",\"hosted_by\",\"open_months\",\"operation_day_hours\",\"website\",\"notes\"]\n",
    "# loaded_dataset = load_dataset(dataset_path, col_names)\n",
    "# f = reformat_rows(loaded_dataset)\n",
    "# print(f.head())"
   ]
  },
  {
   "cell_type": "markdown",
   "id": "1783f146",
   "metadata": {},
   "source": [
    "## Custom Performance Demonstration\n",
    "\n",
    "TODO: In the cells below, demonstrate the performance of your custom query using at least 2 questions. For each question, show the answer from a basic `Completion` model query as well as the answer from your custom query."
   ]
  },
  {
   "cell_type": "markdown",
   "id": "4f11fdc0",
   "metadata": {},
   "source": [
    "### Question 1"
   ]
  },
  {
   "cell_type": "code",
   "execution_count": 9,
   "id": "4901c850",
   "metadata": {},
   "outputs": [],
   "source": [
    "question1 = \"Can you let me know the drop off locations for food scrap in Brooklyn borough for 2023 year?\"\n",
    "# response11 = get_openai_answer(question1)\n",
    "# print(response11)"
   ]
  },
  {
   "cell_type": "code",
   "execution_count": 10,
   "id": "bd7a093b",
   "metadata": {},
   "outputs": [],
   "source": [
    "# question1 = \"Can you let me know the drop off locations for food scrap in Brooklyn borough for 2023 year?\"\n",
    "# response12 = answer_question_with_context(question1, loaded_dataset)\n",
    "# print(response12)"
   ]
  },
  {
   "cell_type": "markdown",
   "id": "6e86e37c",
   "metadata": {},
   "source": [
    "### Question 2"
   ]
  },
  {
   "cell_type": "code",
   "execution_count": 11,
   "id": "6f646989",
   "metadata": {},
   "outputs": [],
   "source": [
    "question2 = \"How many food scrap drop off locations are available in Queens in 2023?\"\n",
    "# question2 = \"Which food scrap drop off locations are available in Queens in 2023?\"\n",
    "# response21 = get_openai_answer(question2)\n",
    "# print(response21)\n"
   ]
  },
  {
   "cell_type": "code",
   "execution_count": 12,
   "id": "11c07a54",
   "metadata": {},
   "outputs": [],
   "source": [
    "# response22 = answer_question_with_context(question2, loaded_dataset)\n",
    "# print(response22)"
   ]
  }
 ],
 "metadata": {
  "kernelspec": {
   "display_name": "Python 3 (ipykernel)",
   "language": "python",
   "name": "python3"
  },
  "language_info": {
   "codemirror_mode": {
    "name": "ipython",
    "version": 3
   },
   "file_extension": ".py",
   "mimetype": "text/x-python",
   "name": "python",
   "nbconvert_exporter": "python",
   "pygments_lexer": "ipython3",
   "version": "3.9.18"
  }
 },
 "nbformat": 4,
 "nbformat_minor": 5
}
